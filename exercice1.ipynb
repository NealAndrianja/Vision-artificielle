{
 "cells": [
  {
   "cell_type": "code",
   "execution_count": 11,
   "id": "a6ad7828-95ed-4db8-b0ab-f6f75210c542",
   "metadata": {},
   "outputs": [
    {
     "data": {
      "text/plain": [
       "tensor([[0.0043, 0.1056, 0.2858, 0.0270, 0.4716, 0.0601, 0.7719],\n",
       "        [0.7437, 0.5944, 0.8879, 0.4510, 0.7995, 0.1498, 0.4015],\n",
       "        [0.0542, 0.4594, 0.1756, 0.9492, 0.8473, 0.8749, 0.6483],\n",
       "        [0.2148, 0.9493, 0.0121, 0.1809, 0.1877, 0.2927, 0.5997],\n",
       "        [0.1213, 0.1148, 0.2609, 0.8052, 0.1394, 0.0516, 0.0666],\n",
       "        [0.2540, 0.3686, 0.0043, 0.2659, 0.5096, 0.5824, 0.4283],\n",
       "        [0.4433, 0.1747, 0.7562, 0.3795, 0.1581, 0.3796, 0.4301]])"
      ]
     },
     "execution_count": 11,
     "metadata": {},
     "output_type": "execute_result"
    }
   ],
   "source": [
    "#Create a random tensor with shape (7, 7).\n",
    "import torch\n",
    "\n",
    "torch.manual_seed(3)\n",
    "my_tensor = torch.rand(7,7)\n",
    "my_tensor"
   ]
  },
  {
   "cell_type": "code",
   "execution_count": 12,
   "id": "c11ea3d4-45ac-4cd9-9c40-d3588bb68e61",
   "metadata": {},
   "outputs": [
    {
     "data": {
      "text/plain": [
       "tensor([[0.9154],\n",
       "        [1.0278],\n",
       "        [1.0771],\n",
       "        [0.6785],\n",
       "        [0.2292],\n",
       "        [0.6544],\n",
       "        [0.6761]])"
      ]
     },
     "execution_count": 12,
     "metadata": {},
     "output_type": "execute_result"
    }
   ],
   "source": [
    "#Perform a matrix multiplication on the tensor from 2 with another \n",
    "#random tensor with shape (1, 7) (hint: you may have to transpose the second tensor).\n",
    "#Set the random seed to 0 and do 2 & 3 over again.\n",
    "torch.manual_seed(3)\n",
    "tensor2 = torch.rand(1,7)\n",
    "torch.matmul(my_tensor, tensor2.T)"
   ]
  },
  {
   "cell_type": "code",
   "execution_count": 23,
   "id": "dbe60458-2d93-476c-9cc9-3cef36532736",
   "metadata": {},
   "outputs": [
    {
     "data": {
      "text/plain": [
       "tensor([[0.1272, 0.8167, 0.5440, 0.6601, 0.2721, 0.9737, 0.3903],\n",
       "        [0.3394, 0.5451, 0.7312, 0.3864, 0.5959, 0.7578, 0.2126],\n",
       "        [0.7198, 0.9845, 0.5518, 0.0981, 0.0582, 0.5839, 0.1083],\n",
       "        [0.9461, 0.3170, 0.8328, 0.6676, 0.2886, 0.9022, 0.8115],\n",
       "        [0.1784, 0.9534, 0.1486, 0.3882, 0.7977, 0.1752, 0.5777],\n",
       "        [0.1949, 0.8499, 0.3125, 0.2156, 0.0383, 0.4934, 0.3138],\n",
       "        [0.3121, 0.5664, 0.1266, 0.7097, 0.0040, 0.5147, 0.2811]],\n",
       "       device='cuda:0')"
      ]
     },
     "execution_count": 23,
     "metadata": {},
     "output_type": "execute_result"
    }
   ],
   "source": [
    "#Speaking of random seeds, we saw how to set it with torch.manual_seed() but is there a GPU equivalent? \n",
    "#(hint: you'll need to look into the documentation for torch.cuda for this one)\n",
    "torch.cuda.manual_seed(1234)\n",
    "gpu_tensor = torch.rand((7,7),device='cuda')\n",
    "gpu_tensor"
   ]
  },
  {
   "cell_type": "code",
   "execution_count": 28,
   "id": "f0c3173c-cca3-40f5-a3bc-fcf9efeaa73f",
   "metadata": {},
   "outputs": [
    {
     "name": "stdout",
     "output_type": "stream",
     "text": [
      "Device: cuda\n"
     ]
    },
    {
     "data": {
      "text/plain": [
       "(tensor([[0.0290, 0.4019, 0.2598],\n",
       "         [0.3666, 0.0583, 0.7006]], device='cuda:0'),\n",
       " tensor([[0.0518, 0.4681, 0.6738],\n",
       "         [0.3315, 0.7837, 0.5631]], device='cuda:0'))"
      ]
     },
     "execution_count": 28,
     "metadata": {},
     "output_type": "execute_result"
    }
   ],
   "source": [
    "#Create two random tensors of shape (2, 3) and send them both to the GPU (you'll need access to a GPU for this).\n",
    "#Set torch.manual_seed(1234) when creating the tensors (this doesn't have to be the GPU random seed).\n",
    "device = \"cuda\" if torch.cuda.is_available() else \"cpu\"\n",
    "print(f\"Device: {device}\")\n",
    "torch.manual_seed(1234)\n",
    "tensor1 = torch.rand(2,3)\n",
    "tensor2 = torch.rand(2,3)\n",
    "gpu_tensor1 = tensor1.to(device)\n",
    "gpu_tensor2 = tensor2.to(device)\n",
    "gpu_tensor1, gpu_tensor2"
   ]
  },
  {
   "cell_type": "code",
   "execution_count": 34,
   "id": "0ba7187b-4adf-4a63-8fd8-c24af2789a38",
   "metadata": {},
   "outputs": [
    {
     "data": {
      "text/plain": [
       "(tensor([[0.3647, 0.4709],\n",
       "         [0.5184, 0.5617]], device='cuda:0'),\n",
       " torch.Size([2, 2]))"
      ]
     },
     "execution_count": 34,
     "metadata": {},
     "output_type": "execute_result"
    }
   ],
   "source": [
    "#Perform a matrix multiplication on the tensors you created in 28 (again, \n",
    "#you may have to adjust the shapes of one of the tensors).\n",
    "mult_res = torch.matmul(gpu_tensor1, gpu_tensor2.T)\n",
    "mult_res, mult_res.size()"
   ]
  },
  {
   "cell_type": "code",
   "execution_count": 39,
   "id": "af89699f-1ae5-40f9-b040-9798b87f6829",
   "metadata": {},
   "outputs": [
    {
     "name": "stdout",
     "output_type": "stream",
     "text": [
      "max: 0.5617256760597229\n",
      "min: 0.3647301495075226\n"
     ]
    }
   ],
   "source": [
    "#Find the maximum and minimum values of the output of 34.\n",
    "mult_max = mult_res.max()\n",
    "print(f\"max: {mult_max}\")\n",
    "mult_min = mult_res.min()\n",
    "print(f\"min: {mult_min}\")"
   ]
  },
  {
   "cell_type": "code",
   "execution_count": 40,
   "id": "7ce650bc-354c-4934-ae63-a5e4e0f607ad",
   "metadata": {},
   "outputs": [
    {
     "name": "stdout",
     "output_type": "stream",
     "text": [
      "max position: 3\n",
      "min position: 0\n"
     ]
    }
   ],
   "source": [
    "#Find the maximum and minimum index values of the output of 7.\n",
    "mult_max_pos = mult_res.argmax()\n",
    "print(f\"max position: {mult_max_pos}\")\n",
    "mult_min_pos = mult_res.argmin()\n",
    "print(f\"min position: {mult_min_pos}\")"
   ]
  },
  {
   "cell_type": "code",
   "execution_count": 54,
   "id": "0d5ca495-1f0a-48f8-a89b-e5e3e4cb31e2",
   "metadata": {},
   "outputs": [
    {
     "name": "stdout",
     "output_type": "stream",
     "text": [
      "x: tensor([[[[-0.1468,  0.7861,  0.9468, -1.1143,  1.6908, -0.8948, -0.3556,\n",
      "            1.2324,  0.1382, -1.6822]]]]), shape: torch.Size([1, 1, 1, 10])\n",
      "new_x: tensor([-0.1468,  0.7861,  0.9468, -1.1143,  1.6908, -0.8948, -0.3556,  1.2324,\n",
      "         0.1382, -1.6822]), shape: torch.Size([10])\n"
     ]
    }
   ],
   "source": [
    "#Make a random tensor with shape (1, 1, 1, 10) and then create a new tensor with all\n",
    "#the 1 dimensions removed to be left with a tensor of shape (10). Set the seed to 7 when\n",
    "#you create it and print out the first tensor and it's shape as well as the second tensor and it's shape.\n",
    "torch.manual_seed(7)\n",
    "x = torch.randn(1, 1, 1, 10)\n",
    "new_x = x.squeeze()\n",
    "print(f\"x: {x}, shape: {x.shape}\")\n",
    "print(f\"new_x: {new_x}, shape: {new_x.shape}\")"
   ]
  },
  {
   "cell_type": "code",
   "execution_count": 50,
   "id": "a9a7c9a7-1b9b-4912-95ef-6ac44ae1f515",
   "metadata": {},
   "outputs": [
    {
     "data": {
      "text/plain": [
       "tensor([[ 0.4501,  0.2709, -0.8087],\n",
       "        [-0.0217, -1.0413,  0.0702],\n",
       "        [ 0.5797, -0.0599,  0.1816],\n",
       "        [-0.6797, -0.2567, -1.8189],\n",
       "        [ 0.2111,  0.3372,  0.6638]])"
      ]
     },
     "execution_count": 50,
     "metadata": {},
     "output_type": "execute_result"
    }
   ],
   "source": [
    "reshaped = x.view(5,3)\n",
    "reshaped"
   ]
  },
  {
   "cell_type": "raw",
   "id": "3b9265bc-d5eb-4c3b-a0ad-49ec1a799665",
   "metadata": {},
   "source": []
  }
 ],
 "metadata": {
  "kernelspec": {
   "display_name": "Python 3 (ipykernel)",
   "language": "python",
   "name": "python3"
  },
  "language_info": {
   "codemirror_mode": {
    "name": "ipython",
    "version": 3
   },
   "file_extension": ".py",
   "mimetype": "text/x-python",
   "name": "python",
   "nbconvert_exporter": "python",
   "pygments_lexer": "ipython3",
   "version": "3.12.5"
  }
 },
 "nbformat": 4,
 "nbformat_minor": 5
}
