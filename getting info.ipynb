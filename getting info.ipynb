{
 "cells": [
  {
   "cell_type": "code",
   "execution_count": 15,
   "id": "19d54ab1-cc60-4797-a4b3-e3fff8f17b61",
   "metadata": {},
   "outputs": [
    {
     "name": "stderr",
     "output_type": "stream",
     "text": [
      "UsageError: Line magic function `%%time` not found.\n"
     ]
    }
   ],
   "source": [
    "import torch\n",
    "\n",
    "cpu_tensor = torch.rand(3,4)\n",
    "gpu_tensor = cpu_tensor.to(torch.device('cuda' if torch.cuda.is_available() else 'cpu'))\n",
    "\n",
    "print(f\"Shape of tensor: {gpu_tensor.shape}\")\n",
    "print(f\"Datatype of tensor: {gpu_tensor.dtype}\")\n",
    "print(f\"Device tensor: {gpu_tensor.device}\")"
   ]
  },
  {
   "cell_type": "code",
   "execution_count": 10,
   "id": "104272e5-3a30-4967-be6c-52ef6352f2f5",
   "metadata": {},
   "outputs": [
    {
     "data": {
      "text/plain": [
       "tensor([[8.9080, 2.1558, 2.0204, 7.2410],\n",
       "        [0.6534, 1.5753, 3.2855, 5.3379],\n",
       "        [5.6485, 9.7882, 0.8437, 5.4077]], device='cuda:0')"
      ]
     },
     "execution_count": 10,
     "metadata": {},
     "output_type": "execute_result"
    }
   ],
   "source": [
    "torch.multiply(gpu_tensor, 10)"
   ]
  },
  {
   "cell_type": "code",
   "execution_count": 17,
   "id": "f54938b2-c34c-4a18-abbe-daf36ef9978c",
   "metadata": {},
   "outputs": [
    {
     "name": "stdout",
     "output_type": "stream",
     "text": [
      "CPU times: total: 0 ns\n",
      "Wall time: 2 ms\n"
     ]
    },
    {
     "data": {
      "text/plain": [
       "tensor([[0.7935, 0.0465, 0.0408, 0.5243],\n",
       "        [0.0043, 0.0248, 0.1079, 0.2849],\n",
       "        [0.3191, 0.9581, 0.0071, 0.2924]])"
      ]
     },
     "execution_count": 17,
     "metadata": {},
     "output_type": "execute_result"
    }
   ],
   "source": [
    "%%time\n",
    "cpu_tensor * cpu_tensor"
   ]
  },
  {
   "cell_type": "code",
   "execution_count": null,
   "id": "ee66c3a1-ff8f-4e90-9769-59653bc78f8f",
   "metadata": {},
   "outputs": [],
   "source": [
    "%%time\n",
    "gpu_tensor * cpu_tensor"
   ]
  }
 ],
 "metadata": {
  "kernelspec": {
   "display_name": "Python 3 (ipykernel)",
   "language": "python",
   "name": "python3"
  },
  "language_info": {
   "codemirror_mode": {
    "name": "ipython",
    "version": 3
   },
   "file_extension": ".py",
   "mimetype": "text/x-python",
   "name": "python",
   "nbconvert_exporter": "python",
   "pygments_lexer": "ipython3",
   "version": "3.12.5"
  }
 },
 "nbformat": 4,
 "nbformat_minor": 5
}
