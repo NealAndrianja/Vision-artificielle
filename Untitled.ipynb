{
 "cells": [
  {
   "cell_type": "code",
   "execution_count": 1,
   "id": "e3d97b9e-1eb6-4b11-bf06-842a043597f9",
   "metadata": {},
   "outputs": [
    {
     "name": "stdout",
     "output_type": "stream",
     "text": [
      "2.5.1+cu121\n",
      "True\n",
      "NVIDIA GeForce RTX 3060 Laptop GPU\n"
     ]
    }
   ],
   "source": [
    "import torch\n",
    "print(torch.__version__)\n",
    "print(torch.cuda.is_available())\n",
    "print(torch.cuda.get_device_name(0))"
   ]
  },
  {
   "cell_type": "code",
   "execution_count": 2,
   "id": "b1eeecba-e917-4ad3-b0d8-32a89085877d",
   "metadata": {},
   "outputs": [
    {
     "data": {
      "text/plain": [
       "tensor(7)"
      ]
     },
     "execution_count": 2,
     "metadata": {},
     "output_type": "execute_result"
    }
   ],
   "source": [
    "# Scalar\n",
    "scalar = torch.tensor(7)\n",
    "scalar"
   ]
  },
  {
   "cell_type": "code",
   "execution_count": 3,
   "id": "3ce647a9-6859-48a2-a1d9-0e8613a76ba3",
   "metadata": {},
   "outputs": [
    {
     "data": {
      "text/plain": [
       "0"
      ]
     },
     "execution_count": 3,
     "metadata": {},
     "output_type": "execute_result"
    }
   ],
   "source": [
    "scalar.ndim"
   ]
  },
  {
   "cell_type": "code",
   "execution_count": 4,
   "id": "fb09bf83-0fe4-4f88-836b-05bbb973dc6f",
   "metadata": {},
   "outputs": [
    {
     "data": {
      "text/plain": [
       "7"
      ]
     },
     "execution_count": 4,
     "metadata": {},
     "output_type": "execute_result"
    }
   ],
   "source": [
    "scalar.item()"
   ]
  },
  {
   "cell_type": "code",
   "execution_count": 5,
   "id": "ad3e6281-2fe6-46bf-88d6-d88877978005",
   "metadata": {},
   "outputs": [
    {
     "data": {
      "text/plain": [
       "tensor([7, 7])"
      ]
     },
     "execution_count": 5,
     "metadata": {},
     "output_type": "execute_result"
    }
   ],
   "source": [
    "vector = torch.tensor([7,7])\n",
    "vector"
   ]
  },
  {
   "cell_type": "code",
   "execution_count": 10,
   "id": "6abb4160-0e92-405f-8be4-b41786468c39",
   "metadata": {},
   "outputs": [
    {
     "data": {
      "text/plain": [
       "torch.Size([2])"
      ]
     },
     "execution_count": 10,
     "metadata": {},
     "output_type": "execute_result"
    }
   ],
   "source": [
    "# Check shape of vector\n",
    "vector.shape"
   ]
  },
  {
   "cell_type": "code",
   "execution_count": 11,
   "id": "312707e1-38ac-41f3-b390-dc791759cfe5",
   "metadata": {},
   "outputs": [
    {
     "data": {
      "text/plain": [
       "tensor([[ 7,  8],\n",
       "        [ 9, 10]])"
      ]
     },
     "execution_count": 11,
     "metadata": {},
     "output_type": "execute_result"
    }
   ],
   "source": [
    "# Matrix\n",
    "MATRIX = torch.tensor([[7, 8], \n",
    "                       [9, 10]])\n",
    "MATRIX"
   ]
  },
  {
   "cell_type": "code",
   "execution_count": 12,
   "id": "067c0885-dbbf-442f-b2e8-d80392d2bf42",
   "metadata": {},
   "outputs": [
    {
     "data": {
      "text/plain": [
       "2"
      ]
     },
     "execution_count": 12,
     "metadata": {},
     "output_type": "execute_result"
    }
   ],
   "source": [
    "MATRIX.ndim"
   ]
  },
  {
   "cell_type": "code",
   "execution_count": 13,
   "id": "988ffe9a-2a4f-42e9-9650-f957d0e7e042",
   "metadata": {},
   "outputs": [
    {
     "data": {
      "text/plain": [
       "tensor([[[1, 2, 3],\n",
       "         [3, 6, 9],\n",
       "         [2, 4, 5]]])"
      ]
     },
     "execution_count": 13,
     "metadata": {},
     "output_type": "execute_result"
    }
   ],
   "source": [
    "# Tensor\n",
    "TENSOR = torch.tensor([[[1, 2, 3],\n",
    "                        [3, 6, 9],\n",
    "                        [2, 4, 5]]])\n",
    "TENSOR"
   ]
  },
  {
   "cell_type": "code",
   "execution_count": 15,
   "id": "678078ca-7061-4a71-a4e1-fa8b65ba84cc",
   "metadata": {},
   "outputs": [
    {
     "data": {
      "text/plain": [
       "3"
      ]
     },
     "execution_count": 15,
     "metadata": {},
     "output_type": "execute_result"
    }
   ],
   "source": [
    "TENSOR.ndim"
   ]
  },
  {
   "cell_type": "code",
   "execution_count": 26,
   "id": "71296c8b-25b6-462b-be53-89d47a118707",
   "metadata": {},
   "outputs": [
    {
     "data": {
      "text/plain": [
       "(tensor([[[7.3580e-01, 9.6015e-01, 5.9024e-01],\n",
       "          [7.3733e-01, 8.8060e-01, 1.7670e-01],\n",
       "          [6.0591e-01, 7.0701e-01, 6.3648e-02],\n",
       "          [4.7746e-01, 2.0004e-01, 3.4345e-01]],\n",
       " \n",
       "         [[5.0507e-02, 5.1647e-01, 2.6675e-01],\n",
       "          [5.5557e-01, 7.7287e-01, 2.4298e-01],\n",
       "          [6.5713e-01, 2.8670e-01, 7.5138e-01],\n",
       "          [6.0338e-01, 7.7940e-01, 1.8097e-01]],\n",
       " \n",
       "         [[6.6412e-01, 4.5875e-01, 7.4348e-01],\n",
       "          [1.1127e-01, 3.6769e-01, 9.3993e-01],\n",
       "          [5.7825e-01, 2.6421e-01, 7.6058e-01],\n",
       "          [5.2365e-01, 5.2170e-01, 1.8630e-01]],\n",
       " \n",
       "         [[9.0214e-01, 4.0339e-01, 9.4030e-02],\n",
       "          [6.8428e-01, 9.2729e-01, 1.8658e-01],\n",
       "          [3.5808e-01, 9.4986e-01, 5.0294e-01],\n",
       "          [7.5114e-01, 2.8576e-01, 6.4943e-01]],\n",
       " \n",
       "         [[7.3003e-01, 6.4258e-01, 6.2141e-02],\n",
       "          [3.6943e-01, 4.2750e-01, 4.7574e-01],\n",
       "          [7.5761e-01, 3.0983e-01, 2.6414e-01],\n",
       "          [1.5116e-01, 9.3208e-01, 2.5518e-01]],\n",
       " \n",
       "         [[6.4123e-01, 9.7007e-01, 5.4684e-01],\n",
       "          [8.6319e-04, 1.0704e-01, 2.3506e-01],\n",
       "          [8.5745e-01, 9.8320e-01, 4.2355e-01],\n",
       "          [2.2258e-01, 5.5381e-01, 8.2772e-01]]]),\n",
       " torch.float32)"
      ]
     },
     "execution_count": 26,
     "metadata": {},
     "output_type": "execute_result"
    }
   ],
   "source": [
    "# Create a random tensor of size (3, 4)\n",
    "random_tensor = torch.rand(size=(6, 4, 3))\n",
    "random_tensor, random_tensor.dtype"
   ]
  },
  {
   "cell_type": "code",
   "execution_count": 27,
   "id": "af78a59e-a3b5-43e0-b9f7-fa8b53b42d36",
   "metadata": {},
   "outputs": [
    {
     "data": {
      "text/plain": [
       "(tensor([[[0.0382, 0.0317, 0.9967],\n",
       "          [0.1544, 0.9468, 0.6784],\n",
       "          [0.7172, 0.1188, 0.7720],\n",
       "          ...,\n",
       "          [0.8091, 0.0345, 0.2758],\n",
       "          [0.7848, 0.9097, 0.3485],\n",
       "          [0.6628, 0.1027, 0.3894]],\n",
       " \n",
       "         [[0.3892, 0.7531, 0.6095],\n",
       "          [0.4656, 0.1395, 0.8777],\n",
       "          [0.3713, 0.2952, 0.7097],\n",
       "          ...,\n",
       "          [0.3701, 0.2703, 0.1716],\n",
       "          [0.3458, 0.9625, 0.0234],\n",
       "          [0.9305, 0.6751, 0.3703]],\n",
       " \n",
       "         [[0.4815, 0.2126, 0.9125],\n",
       "          [0.0897, 0.4607, 0.6505],\n",
       "          [0.2172, 0.0296, 0.2580],\n",
       "          ...,\n",
       "          [0.2342, 0.7904, 0.2268],\n",
       "          [0.6562, 0.9236, 0.5438],\n",
       "          [0.6041, 0.2227, 0.4757]],\n",
       " \n",
       "         ...,\n",
       " \n",
       "         [[0.3717, 0.7553, 0.3180],\n",
       "          [0.6400, 0.9478, 0.1348],\n",
       "          [0.3314, 0.7926, 0.2891],\n",
       "          ...,\n",
       "          [0.9393, 0.1473, 0.3102],\n",
       "          [0.4013, 0.3050, 0.6029],\n",
       "          [0.0425, 0.2780, 0.9373]],\n",
       " \n",
       "         [[0.1919, 0.0964, 0.9268],\n",
       "          [0.4447, 0.4949, 0.4599],\n",
       "          [0.8661, 0.5171, 0.6473],\n",
       "          ...,\n",
       "          [0.3261, 0.8545, 0.2786],\n",
       "          [0.4573, 0.5674, 0.2858],\n",
       "          [0.7427, 0.4035, 0.1594]],\n",
       " \n",
       "         [[0.1212, 0.2692, 0.5476],\n",
       "          [0.1293, 0.4205, 0.2145],\n",
       "          [0.7058, 0.1548, 0.2685],\n",
       "          ...,\n",
       "          [0.1662, 0.9573, 0.2345],\n",
       "          [0.8236, 0.4460, 0.2229],\n",
       "          [0.5155, 0.1941, 0.5766]]]),\n",
       " torch.float32)"
      ]
     },
     "execution_count": 27,
     "metadata": {},
     "output_type": "execute_result"
    }
   ],
   "source": [
    "# Create a random tensor of size (3, 4)\n",
    "random_img_tensor = torch.rand(size=(224, 224, 3))\n",
    "random_img_tensor, random_img_tensor.dtype"
   ]
  },
  {
   "cell_type": "code",
   "execution_count": 28,
   "id": "50c6eadf-cdc6-4e85-88e7-ca7d63efd716",
   "metadata": {},
   "outputs": [
    {
     "data": {
      "text/plain": [
       "(tensor([[0., 0., 0., 0.],\n",
       "         [0., 0., 0., 0.],\n",
       "         [0., 0., 0., 0.]]),\n",
       " torch.float32)"
      ]
     },
     "execution_count": 28,
     "metadata": {},
     "output_type": "execute_result"
    }
   ],
   "source": [
    "zeros = torch.zeros(size=(3,4))\n",
    "zeros, zeros.dtype"
   ]
  },
  {
   "cell_type": "code",
   "execution_count": 29,
   "id": "89835766-a927-4959-9e25-2ae9822608ec",
   "metadata": {},
   "outputs": [
    {
     "data": {
      "text/plain": [
       "(tensor([[1., 1., 1., 1.],\n",
       "         [1., 1., 1., 1.],\n",
       "         [1., 1., 1., 1.]]),\n",
       " torch.float32)"
      ]
     },
     "execution_count": 29,
     "metadata": {},
     "output_type": "execute_result"
    }
   ],
   "source": [
    "# Create a tensor of all ones\n",
    "ones = torch.ones(size=(3, 4))\n",
    "ones, ones.dtype"
   ]
  },
  {
   "cell_type": "code",
   "execution_count": 31,
   "id": "3efec69e-58cf-4cae-b31c-f1eb3149ca8c",
   "metadata": {},
   "outputs": [
    {
     "data": {
      "text/plain": [
       "tensor([1.0000, 3.5000, 6.0000, 8.5000])"
      ]
     },
     "execution_count": 31,
     "metadata": {},
     "output_type": "execute_result"
    }
   ],
   "source": [
    "line = torch.arange(1,10,2.5)\n",
    "line"
   ]
  },
  {
   "cell_type": "code",
   "execution_count": null,
   "id": "a689ee58-b7a2-4272-8345-61dccb09ec8a",
   "metadata": {},
   "outputs": [],
   "source": []
  }
 ],
 "metadata": {
  "kernelspec": {
   "display_name": "Python 3 (ipykernel)",
   "language": "python",
   "name": "python3"
  },
  "language_info": {
   "codemirror_mode": {
    "name": "ipython",
    "version": 3
   },
   "file_extension": ".py",
   "mimetype": "text/x-python",
   "name": "python",
   "nbconvert_exporter": "python",
   "pygments_lexer": "ipython3",
   "version": "3.12.5"
  }
 },
 "nbformat": 4,
 "nbformat_minor": 5
}
